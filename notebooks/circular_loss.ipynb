{
 "cells": [
  {
   "cell_type": "markdown",
   "metadata": {},
   "source": [
    "# 🌀 Circular Cross-Entropy Loss – Verification Notebook\n",
    "\n",
    "This notebook implements **circular label smoothing** and a **circular cross-entropy** loss for orientation classification (90 bins, wrap-around),\n",
    "and runs several diagnostic tests (shape, wrap-around symmetry, close-vs-far, gradient check) plus a visualization of the smoothed targets."
   ]
  },
  {
   "cell_type": "code",
   "execution_count": 2,
   "metadata": {},
   "outputs": [
    {
     "name": "stdout",
     "output_type": "stream",
     "text": [
      "torch: 2.5.1\n"
     ]
    }
   ],
   "source": [
    "import torch\n",
    "import torch.nn.functional as F\n",
    "import matplotlib.pyplot as plt\n",
    "torch.manual_seed(0)\n",
    "print('torch:', torch.__version__)\n"
   ]
  },
  {
   "cell_type": "markdown",
   "metadata": {},
   "source": [
    "## 1) Functions: circular_smooth_labels & circular_cross_entropy"
   ]
  },
  {
   "cell_type": "code",
   "execution_count": 3,
   "metadata": {},
   "outputs": [],
   "source": [
    "def circular_smooth_labels(true_idx, num_classes=90, sigma=1.5):\n",
    "    \"\"\"\n",
    "    Create wrapped Gaussian soft labels for circular classes.\n",
    "\n",
    "    Args:\n",
    "        true_idx: LongTensor of shape (B, H, W) with values in [0, num_classes-1].\n",
    "        num_classes: int, number of discrete angular bins (e.g. 90).\n",
    "        sigma: float, smoothing kernel width in *bins*.\n",
    "\n",
    "    Returns:\n",
    "        Tensor of shape (B, C, H, W) with probabilities summing to 1 along C.\n",
    "    \"\"\"\n",
    "    if not torch.is_tensor(true_idx):\n",
    "        raise TypeError('true_idx must be a torch tensor')\n",
    "    if true_idx.dim() != 3:\n",
    "        raise ValueError('true_idx must have shape (B,H,W)')\n",
    "\n",
    "    device = true_idx.device\n",
    "    B, H, W = true_idx.shape\n",
    "    classes = torch.arange(num_classes, device=device).view(1, num_classes, 1, 1)  # (1,C,1,1)\n",
    "    true_idx_exp = true_idx.unsqueeze(1)  # (B,1,H,W)\n",
    "\n",
    "    diff = torch.abs(classes - true_idx_exp)  # broadcast to (B,C,H,W)\n",
    "    diff = torch.minimum(diff, (num_classes - diff))  # wrap-around distance\n",
    "\n",
    "    weights = torch.exp(-0.5 * (diff.float() / float(sigma)) ** 2)\n",
    "    weights = weights / weights.sum(dim=1, keepdim=True)\n",
    "    return weights\n",
    "\n",
    "\n",
    "def circular_cross_entropy(pred_logits, true_idx, num_classes=90, sigma=1.5, reduction='mean'):\n",
    "    \"\"\"\n",
    "    pred_logits: Tensor (B, C, H, W) raw logits\n",
    "    true_idx: LongTensor (B, H, W) class indices\n",
    "    Returns scalar loss (or per-cell if reduction=None)\n",
    "    \"\"\"\n",
    "    if pred_logits.dim() != 4:\n",
    "        raise ValueError('pred_logits must have shape (B,C,H,W)')\n",
    "    if true_idx.dim() != 3:\n",
    "        raise ValueError('true_idx must have shape (B,H,W)')\n",
    "    if pred_logits.size(1) != num_classes:\n",
    "        raise ValueError('pred_logits.size(1) must equal num_classes')\n",
    "\n",
    "    soft_targets = circular_smooth_labels(true_idx, num_classes=num_classes, sigma=sigma)\n",
    "    log_probs = F.log_softmax(pred_logits, dim=1)\n",
    "    per_cell = -(soft_targets * log_probs).sum(dim=1)  # (B,H,W)\n",
    "\n",
    "    if reduction == 'mean':\n",
    "        return per_cell.mean()\n",
    "    elif reduction == 'sum':\n",
    "        return per_cell.sum()\n",
    "    elif reduction is None:\n",
    "        return per_cell\n",
    "    else:\n",
    "        raise ValueError('reduction must be one of {\"mean\",\"sum\",None}')\n"
   ]
  },
  {
   "cell_type": "markdown",
   "metadata": {},
   "source": [
    "## 2) Basic sanity test (shapes / runtime)"
   ]
  },
  {
   "cell_type": "code",
   "execution_count": 15,
   "metadata": {},
   "outputs": [
    {
     "name": "stdout",
     "output_type": "stream",
     "text": [
      "Basic test loss (random): 4.925586700439453\n"
     ]
    }
   ],
   "source": [
    "pred = torch.randn(2, 90, 4, 4)\n",
    "true_idx = torch.randint(0, 90, (2, 4, 4))\n",
    "loss = circular_cross_entropy(pred, true_idx)\n",
    "print('Basic test loss (random):', loss.item())\n"
   ]
  },
  {
   "cell_type": "code",
   "execution_count": 18,
   "id": "18284010",
   "metadata": {},
   "outputs": [
    {
     "data": {
      "text/plain": [
       "(torch.Size([2, 90, 4, 4]), torch.Size([2, 4, 4]))"
      ]
     },
     "execution_count": 18,
     "metadata": {},
     "output_type": "execute_result"
    }
   ],
   "source": [
    "pred.shape, true_idx.shape"
   ]
  },
  {
   "cell_type": "markdown",
   "metadata": {},
   "source": [
    "## 3) Wrap-around symmetry test\n",
    "\n",
    "Check that class 0 and class 89 behave symmetrically for uniform logits."
   ]
  },
  {
   "cell_type": "code",
   "execution_count": 20,
   "metadata": {},
   "outputs": [
    {
     "name": "stdout",
     "output_type": "stream",
     "text": [
      "Loss at class 0: 4.499809265136719\n",
      "Loss at class 89: 4.499809741973877\n",
      "Absolute difference: 4.76837158203125e-07\n"
     ]
    }
   ],
   "source": [
    "logits = torch.zeros(1, 90, 1, 1)\n",
    "true_idx_0 = torch.tensor([[[0]]])\n",
    "true_idx_89 = torch.tensor([[[89]]])\n",
    "\n",
    "loss_0 = circular_cross_entropy(logits, true_idx_0)\n",
    "loss_89 = circular_cross_entropy(logits, true_idx_89)\n",
    "\n",
    "print('Loss at class 0:', loss_0.item())\n",
    "print('Loss at class 89:', loss_89.item())\n",
    "print('Absolute difference:', abs(loss_0.item() - loss_89.item()))\n"
   ]
  },
  {
   "cell_type": "markdown",
   "metadata": {},
   "source": [
    "## 4) Close vs Far test\n",
    "\n",
    "Predictions that are close (1 bin away) should have much lower loss than predictions ~45 bins away (~90°)."
   ]
  },
  {
   "cell_type": "code",
   "execution_count": null,
   "metadata": {},
   "outputs": [
    {
     "name": "stdout",
     "output_type": "stream",
     "text": [
      "Loss (correct): 14.680767\n",
      "Loss (close):   15.740690\n",
      "Loss (far):     19.999996\n"
     ]
    }
   ],
   "source": [
    "# ✅ Ground truth class index: class 0 (e.g. -90° orientation)\n",
    "# Shape: (batch=1, height=1, width=1)\n",
    "true_idx = torch.tensor([[[0]]])\n",
    "\n",
    "# -----------------------------\n",
    "# Case 1: Model predicts the correct class with high confidence\n",
    "# -----------------------------\n",
    "\n",
    "# Create a logits tensor filled with -10.0 (very low confidence)\n",
    "# Shape: (1 batch, 90 classes, 1 height, 1 width)\n",
    "pred_correct = torch.full((1, 90, 1, 1), -10.0)\n",
    "\n",
    "# Set the logit of the correct class (index 0) to a high value (10.0)\n",
    "# This simulates the model being very confident about the correct class\n",
    "pred_correct[:, 0] = 10.0\n",
    "\n",
    "# Compute the circular cross-entropy loss for this prediction\n",
    "# Expected: very low loss (near 0), since the prediction is correct\n",
    "loss_correct = circular_cross_entropy(pred_correct, true_idx)\n",
    "\n",
    "# -----------------------------\n",
    "# Case 2: Model predicts a class close to the correct one\n",
    "# -----------------------------\n",
    "\n",
    "# Create logits again with very low values (-10.0)\n",
    "pred_close = torch.full((1, 90, 1, 1), -10.0)\n",
    "\n",
    "# Now the model predicts class 1 with high confidence (close to -88)\n",
    "# This simulates a small angular error (~2° difference)\n",
    "pred_close[:, 1] = 10.0\n",
    "\n",
    "# Compute the circular loss\n",
    "# Expected: slightly higher than loss_correct, but still low\n",
    "loss_close = circular_cross_entropy(pred_close, true_idx)\n",
    "\n",
    "# -----------------------------\n",
    "# Case 3: Model predicts a far-away class (about 90° away)\n",
    "# -----------------------------\n",
    "\n",
    "# Again, create a tensor with all logits very low\n",
    "pred_far = torch.full((1, 90, 1, 1), -10.0)\n",
    "\n",
    "# Set a far-away class (index 45) to high confidence\n",
    "# This simulates a ~90° error — the worst possible in this setup\n",
    "pred_far[:, 45] = 10.0\n",
    "\n",
    "# Compute the circular loss\n",
    "# Expected: much higher than both loss_correct and loss_close\n",
    "loss_far = circular_cross_entropy(pred_far, true_idx)\n",
    "\n",
    "# -----------------------------\n",
    "# Print the results for comparison\n",
    "# -----------------------------\n",
    "\n",
    "print(f'Loss (correct): {loss_correct.item():.6f}')  # lowest loss\n",
    "print(f'Loss (close):   {loss_close.item():.6f}')    # higher but still low\n",
    "print(f'Loss (far):     {loss_far.item():.6f}')      # highest loss"
   ]
  },
  {
   "cell_type": "markdown",
   "metadata": {},
   "source": [
    "## 5) Compare with standard CrossEntropyLoss\n",
    "\n",
    "On arbitrary logits the numbers may be similar; on wrap cases standard CE will not respect circular neighbors."
   ]
  },
  {
   "cell_type": "code",
   "execution_count": 7,
   "metadata": {},
   "outputs": [
    {
     "name": "stdout",
     "output_type": "stream",
     "text": [
      "Standard CE loss: 5.183502674102783\n",
      "Circular CE loss: 5.126371383666992\n"
     ]
    }
   ],
   "source": [
    "pred_rand = torch.randn(1, 90, 3, 3)\n",
    "true_rand = torch.randint(0, 90, (1, 3, 3))\n",
    "ce_loss_fn = torch.nn.CrossEntropyLoss()\n",
    "loss_standard = ce_loss_fn(pred_rand, true_rand)\n",
    "loss_circular = circular_cross_entropy(pred_rand, true_rand)\n",
    "print('Standard CE loss:', loss_standard.item())\n",
    "print('Circular CE loss:', loss_circular.item())\n"
   ]
  },
  {
   "cell_type": "markdown",
   "metadata": {},
   "source": [
    "## 6) Gradient sanity check\n",
    "\n",
    "Make sure the loss is differentiable and returns finite gradients."
   ]
  },
  {
   "cell_type": "code",
   "execution_count": 8,
   "metadata": {},
   "outputs": [
    {
     "name": "stdout",
     "output_type": "stream",
     "text": [
      "Loss: 4.983753204345703\n",
      "Grad mean: 2.0696057714819638e-11\n",
      "Grad std: 0.002905492438003421\n"
     ]
    }
   ],
   "source": [
    "pred_g = torch.randn(1, 90, 4, 4, requires_grad=True)\n",
    "true_g = torch.randint(0, 90, (1, 4, 4))\n",
    "loss_g = circular_cross_entropy(pred_g, true_g)\n",
    "loss_g.backward()\n",
    "print('Loss:', loss_g.item())\n",
    "print('Grad mean:', pred_g.grad.mean().item())\n",
    "print('Grad std:', pred_g.grad.std().item())\n"
   ]
  },
  {
   "cell_type": "markdown",
   "metadata": {},
   "source": [
    "## 7) Visualize smoothed label distribution\n",
    "\n",
    "Plot the class probabilities for a ground-truth class at index 0 to check wrap-around."
   ]
  },
  {
   "cell_type": "code",
   "execution_count": 9,
   "metadata": {},
   "outputs": [
    {
     "name": "stdout",
     "output_type": "stream",
     "text": [
      "Sum(probabilities) = 0.9999999\n"
     ]
    },
    {
     "data": {
      "image/png": "[encoded data removed]",
      "text/plain": [
       "<Figure size 1000x300 with 1 Axes>"
      ]
     },
     "metadata": {},
     "output_type": "display_data"
    }
   ],
   "source": [
    "true_vis = torch.tensor([[[0]]])\n",
    "soft = circular_smooth_labels(true_vis, num_classes=90, sigma=1.5)[0, :, 0, 0].cpu().numpy()\n",
    "print('Sum(probabilities) =', soft.sum())\n",
    "plt.figure(figsize=(10,3))\n",
    "plt.plot(soft, marker='o')\n",
    "plt.title('Wrapped Gaussian soft labels (peak at class 0, wrap-around at class 89)')\n",
    "plt.xlabel('Class index')\n",
    "plt.ylabel('Probability')\n",
    "plt.grid(True)\n",
    "plt.show()\n"
   ]
  }
 ],
 "metadata": {
  "kernelspec": {
   "display_name": "hydra",
   "language": "python",
   "name": "python3"
  },
  "language_info": {
   "codemirror_mode": {
    "name": "ipython",
    "version": 3
   },
   "file_extension": ".py",
   "mimetype": "text/x-python",
   "name": "python",
   "nbconvert_exporter": "python",
   "pygments_lexer": "ipython3",
   "version": "3.10.17"
  }
 },
 "nbformat": 4,
 "nbformat_minor": 5
}
